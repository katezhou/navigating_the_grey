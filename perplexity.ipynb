{
 "cells": [
  {
   "cell_type": "code",
   "execution_count": null,
   "id": "0be1f2d7",
   "metadata": {},
   "outputs": [],
   "source": [
    "import openai\n",
    "from statistics import mean\n",
    "from math import exp\n",
    "import pandas as pd\n",
    "\n",
    "openai.api_key = pd.read_csv(\"prod_env/openai_api_key.csv\", header=None).values[0][0]"
   ]
  },
  {
   "cell_type": "code",
   "execution_count": null,
   "id": "e334cfc0",
   "metadata": {},
   "outputs": [],
   "source": [
    "NUM_COMPLETIONS = 1\n",
    "MAX_TOKENS = 10\n",
    "TEMPERATURE = 1\n",
    "MODEL_NAME = \"openai/text-davinci-003\"\n",
    "TOP_K_PER_TOKEN = 5\n",
    "ECHO_PROMPT = False\n",
    "\n",
    "STOP_SEQUENCES = []"
   ]
  },
  {
   "cell_type": "code",
   "execution_count": null,
   "id": "f62d58e0",
   "metadata": {},
   "outputs": [],
   "source": [
    "folder_path = '/u/scr/katezhou/Uncertainty/interpretability/'\n",
    "\n",
    "prefix_df = pd.read_csv(folder_path + \"uncertainty_template_meta.csv\")\n",
    "PREFIXES = [\"\"] + [\" \" + x for x in  prefix_df['name'].values]\n",
    "PREFIXES.remove(\" unprompted\")\n",
    "PREFIXES.remove( \" I don't think it's\")\n",
    "PREFIXES.remove(\" I seriously doubt it's\")\n",
    "print(len(PREFIXES))\n",
    "\n",
    "prefixes_df = pd.DataFrame()\n",
    "prefixes_df['prefix']=PREFIXES"
   ]
  },
  {
   "cell_type": "code",
   "execution_count": null,
   "id": "3ab61d85",
   "metadata": {},
   "outputs": [],
   "source": [
    "ppls = []\n",
    "for n, row in prefix_df.iterrows():\n",
    "    prompt=row['name']\n",
    "    if prompt==\"unprompted\":\n",
    "        ppls.append(0)\n",
    "        continue\n",
    "    completion = openai.Completion.create(model=\"davinci\", \n",
    "                                          prompt=prompt,\n",
    "                                         temperature=1,\n",
    "                                         logprobs=5,\n",
    "                                         max_tokens=0,\n",
    "                                         echo=True)\n",
    "    nll = []\n",
    "    nll.append(mean([i for i in completion['choices'][0]['logprobs']['token_logprobs'] if i is not None]))\n",
    "    ppl = [exp(-i) for i in nll]\n",
    "    ppls.append(ppl[0])\n",
    "prefix_df['ppl'] = ppls"
   ]
  },
  {
   "cell_type": "code",
   "execution_count": null,
   "id": "8b6a9103",
   "metadata": {},
   "outputs": [],
   "source": [
    "# pd.read_csv(\"uncertainty_template_meta_perplexity_davinci.csv\").sort_values(by='ppl')"
   ]
  },
  {
   "cell_type": "code",
   "execution_count": null,
   "id": "e406d165",
   "metadata": {},
   "outputs": [],
   "source": [
    "prefix_df.sort_values(by='ppl')"
   ]
  },
  {
   "cell_type": "code",
   "execution_count": null,
   "id": "9fbd3706",
   "metadata": {},
   "outputs": [],
   "source": []
  }
 ],
 "metadata": {
  "kernelspec": {
   "display_name": "Python 3",
   "language": "python",
   "name": "python3"
  },
  "language_info": {
   "codemirror_mode": {
    "name": "ipython",
    "version": 3
   },
   "file_extension": ".py",
   "mimetype": "text/x-python",
   "name": "python",
   "nbconvert_exporter": "python",
   "pygments_lexer": "ipython3",
   "version": "3.8.12"
  }
 },
 "nbformat": 4,
 "nbformat_minor": 5
}
